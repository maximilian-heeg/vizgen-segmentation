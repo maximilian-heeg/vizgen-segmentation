{
 "cells": [
  {
   "cell_type": "code",
   "execution_count": null,
   "id": "34c8a1c1",
   "metadata": {},
   "outputs": [],
   "source": [
    "import sys\n",
    "!{sys.executable} -m pip install pyarrow rtree"
   ]
  },
  {
   "cell_type": "markdown",
   "id": "110c006d",
   "metadata": {},
   "source": [
    "# Assign transcripts"
   ]
  },
  {
   "cell_type": "code",
   "execution_count": null,
   "id": "40302b73-6293-48bf-80b8-051dc653ffd1",
   "metadata": {},
   "outputs": [],
   "source": [
    "import pandas as pd\n",
    "import numpy as np\n",
    "from shapely import wkb\n",
    "import geopandas as gpd\n",
    "from shapely.geometry import Point\n"
   ]
  },
  {
   "cell_type": "markdown",
   "id": "2de80d81-0399-4b42-a934-8dbcb8ccd606",
   "metadata": {},
   "source": [
    "## Load the transcripts and the boundaries"
   ]
  },
  {
   "cell_type": "code",
   "execution_count": null,
   "id": "b4e1557a",
   "metadata": {},
   "outputs": [],
   "source": [
    "transcripts = pd.read_csv(\"transcripts.csv\")\n",
    "\n",
    "# convert to geoseries points\n",
    "points = gpd.GeoSeries.from_xy(transcripts.global_x, transcripts.global_y)"
   ]
  },
  {
   "cell_type": "code",
   "execution_count": null,
   "id": "111e60f3",
   "metadata": {},
   "outputs": [],
   "source": [
    "boundaries = pd.read_parquet(\"boundaries.parquet\")\n",
    "# each cell exists 7 times, for each layer, \n",
    "# remove the duplicates\n",
    "# it's faster to do this before the convert it into shapely polygons\n",
    "boundaries = boundaries.Geometry.drop_duplicates(ignore_index=True)\n",
    "# Decode the WKB\n",
    "boundaries = gpd.GeoSeries(boundaries.apply(wkb.loads))"
   ]
  },
  {
   "cell_type": "code",
   "execution_count": null,
   "id": "437da493",
   "metadata": {},
   "outputs": [],
   "source": [
    "# Plot every 50th cells as a small qc\n",
    "# boundaries[::50].plot()"
   ]
  },
  {
   "cell_type": "markdown",
   "id": "59e90c72-a70c-496b-852b-5efe2738496f",
   "metadata": {},
   "source": [
    "## Assign the transcripts to cells\n",
    "\n",
    "Here, we use a spatial join to get the cell id for each transcript"
   ]
  },
  {
   "cell_type": "code",
   "execution_count": null,
   "id": "a1e10b0f-6a01-4401-a0e0-dcd1eb7076f0",
   "metadata": {},
   "outputs": [],
   "source": [
    "cell = gpd.sjoin(\n",
    "    gpd.GeoDataFrame({\"XY\": points}, geometry=\"XY\"),\n",
    "    gpd.GeoDataFrame({\"cells\": boundaries}, geometry=\"cells\"),\n",
    "    how=\"left\",\n",
    ")\n"
   ]
  },
  {
   "cell_type": "code",
   "execution_count": null,
   "id": "568580f6-62a8-46fe-9e60-845b144bd6b5",
   "metadata": {},
   "outputs": [],
   "source": [
    "# add it to the transcripts\n",
    "transcripts['cell_id'] = cell['index_right'].fillna(0).astype('int')"
   ]
  },
  {
   "cell_type": "code",
   "execution_count": null,
   "id": "7c9026fa",
   "metadata": {},
   "outputs": [],
   "source": [
    "# Rename and add some columns to make it compatible with tile-xenium\n",
    "transcripts = transcripts.rename(columns={\n",
    "    \"transcript_id\":        \"ensembl_id\",\n",
    "    \"unique_transcript_id\": \"transcript_id\",\n",
    "    \"global_x\":             \"x_location\", \n",
    "    \"global_y\":             \"y_location\", \n",
    "    \"global_z\":             \"z_location\", \n",
    "    \"gene\":                 \"feature_name\"}\n",
    ")\n",
    "transcripts['qv'] = 20\n",
    "transcripts['overlaps_nucleus'] = 0\n",
    "transcripts"
   ]
  },
  {
   "cell_type": "markdown",
   "id": "148fc126-21f8-4988-b348-e0dd0a64e87d",
   "metadata": {},
   "source": [
    "## Save the results transcripts.csv"
   ]
  },
  {
   "cell_type": "code",
   "execution_count": null,
   "id": "81e3a478",
   "metadata": {},
   "outputs": [],
   "source": [
    "transcripts.to_csv(\"transcripts_assigned.csv\")"
   ]
  }
 ],
 "metadata": {
  "kernelspec": {
   "display_name": "Python 3 (ipykernel)",
   "language": "python",
   "name": "python3"
  },
  "language_info": {
   "codemirror_mode": {
    "name": "ipython",
    "version": 3
   },
   "file_extension": ".py",
   "mimetype": "text/x-python",
   "name": "python",
   "nbconvert_exporter": "python",
   "pygments_lexer": "ipython3",
   "version": "3.11.4"
  }
 },
 "nbformat": 4,
 "nbformat_minor": 5
}
