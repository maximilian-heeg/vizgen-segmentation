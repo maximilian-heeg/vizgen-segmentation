{
 "cells": [
  {
   "cell_type": "markdown",
   "id": "00914d54-f6f2-41d4-ad3f-31002ebcac6b",
   "metadata": {},
   "source": [
    "# Scanpy"
   ]
  },
  {
   "cell_type": "code",
   "execution_count": null,
   "id": "7a9304b7-487e-454e-b4b7-07d5a1ba37b7",
   "metadata": {},
   "outputs": [],
   "source": [
    "import pandas as pd\n",
    "import os\n",
    "import json\n",
    "import numpy as np\n",
    "import scanpy as sc\n",
    "import matplotlib.pyplot as plt\n",
    "import anndata as ad\n",
    "import warnings\n",
    "from matplotlib.patches import Rectangle\n",
    "\n",
    "warnings.filterwarnings('ignore')"
   ]
  },
  {
   "cell_type": "markdown",
   "id": "07dc3cfb",
   "metadata": {},
   "source": [
    "Import the transcripts CSV"
   ]
  },
  {
   "cell_type": "code",
   "execution_count": null,
   "id": "f0147652-1827-4592-9f02-83642c46b709",
   "metadata": {},
   "outputs": [],
   "source": [
    "# Add path to the Baysor ouput\n",
    "output_path = 'data'\n",
    "transcripts = pd.read_csv(os.path.join(output_path, 'transcripts.csv'))\n",
    "transcripts"
   ]
  },
  {
   "cell_type": "markdown",
   "id": "f2e83a37",
   "metadata": {},
   "source": [
    "Create a cell x gene table"
   ]
  },
  {
   "cell_type": "code",
   "execution_count": null,
   "id": "808fa75e",
   "metadata": {},
   "outputs": [],
   "source": [
    "\n",
    "cross_tab = pd.crosstab(index=transcripts[\"cell\"].values,\n",
    "                        columns=transcripts['gene'].values)\n",
    "cross_tab\n"
   ]
  },
  {
   "cell_type": "markdown",
   "id": "ec39f75c",
   "metadata": {},
   "source": [
    "Get the spatial position of the cells. Here we just take the mean of x and y."
   ]
  },
  {
   "cell_type": "code",
   "execution_count": null,
   "id": "ed94d11e",
   "metadata": {},
   "outputs": [],
   "source": [
    "spatial = transcripts[~pd.isna(transcripts.cell)]\n",
    "spatial = spatial.groupby(\"cell\")[['x', 'y']].mean()\n",
    "spatial = spatial.reindex(cross_tab.index)\n",
    "spatial"
   ]
  },
  {
   "cell_type": "markdown",
   "id": "a8471467",
   "metadata": {},
   "source": [
    "Put it together in an anndata object. This is also saved."
   ]
  },
  {
   "cell_type": "code",
   "execution_count": null,
   "id": "d4729caa",
   "metadata": {},
   "outputs": [],
   "source": [
    "adata = ad.AnnData(\n",
    "    X=cross_tab,\n",
    "    obs=pd.DataFrame(\n",
    "        index=cross_tab.index.values,\n",
    "        data={\n",
    "        'cell':cross_tab.index.values\n",
    "    }),\n",
    "    var=pd.DataFrame(\n",
    "        index=cross_tab.columns,\n",
    "        data={\n",
    "            'gene':cross_tab.columns.values\n",
    "        }\n",
    "    )\n",
    ")\n",
    "\n",
    "adata.layers['raw'] = adata.X\n",
    "adata.obsm['spatial'] = spatial.to_numpy()\n",
    "\n",
    "adata.write(\"anndata.h5ad\")\n",
    "\n",
    "adata\n",
    "\n"
   ]
  },
  {
   "cell_type": "markdown",
   "id": "23f1edc3",
   "metadata": {},
   "source": [
    "## Preprocessing"
   ]
  },
  {
   "cell_type": "code",
   "execution_count": null,
   "id": "69fe96fc",
   "metadata": {},
   "outputs": [],
   "source": [
    "sc.pl.highest_expr_genes(adata, n_top=20, )"
   ]
  },
  {
   "cell_type": "markdown",
   "id": "27e5c01f",
   "metadata": {},
   "source": [
    "### Basic filtering"
   ]
  },
  {
   "cell_type": "code",
   "execution_count": null,
   "id": "a2588b3e",
   "metadata": {},
   "outputs": [],
   "source": [
    "sc.pp.filter_cells(adata, min_genes=20)\n",
    "sc.pp.filter_genes(adata, min_cells=3)"
   ]
  },
  {
   "cell_type": "code",
   "execution_count": null,
   "id": "a57a6de9",
   "metadata": {},
   "outputs": [],
   "source": [
    "sc.pp.calculate_qc_metrics(adata, percent_top=None, log1p=False, inplace=True)"
   ]
  },
  {
   "cell_type": "code",
   "execution_count": null,
   "id": "321ab935",
   "metadata": {},
   "outputs": [],
   "source": [
    "sc.pl.violin(adata, ['n_genes_by_counts', 'total_counts'],\n",
    "             jitter=0.4, multi_panel=True)\n"
   ]
  },
  {
   "cell_type": "code",
   "execution_count": null,
   "id": "34f74687",
   "metadata": {},
   "outputs": [],
   "source": [
    "sc.pp.normalize_total(adata, target_sum=1e4)"
   ]
  },
  {
   "cell_type": "code",
   "execution_count": null,
   "id": "60c554e1",
   "metadata": {},
   "outputs": [],
   "source": [
    "sc.pp.log1p(adata)"
   ]
  },
  {
   "cell_type": "code",
   "execution_count": null,
   "id": "77d6926b",
   "metadata": {},
   "outputs": [],
   "source": [
    "sc.pp.scale(adata, max_value=10)"
   ]
  },
  {
   "cell_type": "markdown",
   "id": "85d0f3f4",
   "metadata": {},
   "source": [
    "## Principal component analysis"
   ]
  },
  {
   "cell_type": "code",
   "execution_count": null,
   "id": "9940c4bb",
   "metadata": {},
   "outputs": [],
   "source": [
    "sc.tl.pca(adata, svd_solver='arpack')"
   ]
  },
  {
   "cell_type": "code",
   "execution_count": null,
   "id": "ae87f9a2",
   "metadata": {},
   "outputs": [],
   "source": [
    "sc.pl.pca(adata)"
   ]
  },
  {
   "cell_type": "code",
   "execution_count": null,
   "id": "a3ee94f2",
   "metadata": {},
   "outputs": [],
   "source": [
    "sc.pl.pca_variance_ratio(adata, log=True)"
   ]
  },
  {
   "cell_type": "markdown",
   "id": "b541ef99",
   "metadata": {},
   "source": [
    "## Computing the neighborhood graph"
   ]
  },
  {
   "cell_type": "code",
   "execution_count": null,
   "id": "e81e4f9d",
   "metadata": {},
   "outputs": [],
   "source": [
    "sc.pp.neighbors(adata)"
   ]
  },
  {
   "cell_type": "code",
   "execution_count": null,
   "id": "f69fda3d",
   "metadata": {},
   "outputs": [],
   "source": [
    "sc.tl.umap(adata)\n",
    "sc.tl.leiden(adata)"
   ]
  },
  {
   "cell_type": "code",
   "execution_count": null,
   "id": "b6e30661",
   "metadata": {},
   "outputs": [],
   "source": [
    "sc.pl.umap(adata, color=['leiden'])"
   ]
  },
  {
   "cell_type": "markdown",
   "id": "cad53dc1",
   "metadata": {},
   "source": [
    "## Spatial plot"
   ]
  },
  {
   "cell_type": "markdown",
   "id": "bdc8d03f",
   "metadata": {},
   "source": [
    "### Check limits for subset to smaller FOV"
   ]
  },
  {
   "cell_type": "code",
   "execution_count": null,
   "id": "e74b20f6",
   "metadata": {},
   "outputs": [],
   "source": [
    "max_width = int(os.getenv(\"WIDTH\"))\n",
    "max_height = int(os.getenv(\"HEIGHT\"))\n",
    "\n",
    "x_offset = int(os.getenv(\"X_OFFSET\"))\n",
    "y_offset = int(os.getenv(\"Y_OFFSET\"))\n",
    "\n",
    "total_width = np.max(transcripts.x) - np.min(transcripts.x)\n",
    "total_height = np.max(transcripts.y) - np.min(transcripts.y)\n",
    "\n",
    "# check boundaries\n",
    "if max_width >= total_width:\n",
    "    max_width = total_width\n",
    "    x_offset = 0\n",
    "if max_height >= total_height:\n",
    "    max_height = total_height\n",
    "    y_offset = 0\n",
    "\n",
    "\n",
    "if (x_offset < 0) and (total_width > max_width):\n",
    "    x_offset = round(total_width /2 - max_width /2)\n",
    "if (max_width + x_offset) > np.max(transcripts.x):\n",
    "    x_offset = np.max(transcripts.x) - max_width\n",
    "\n",
    "\n",
    "if (y_offset < 0) and (total_height > max_height):\n",
    "    y_offset = round(total_height /2 - max_height /2)\n",
    "if (max_height + y_offset) > np.max(transcripts.y):\n",
    "    y_offset = np.max(transcripts.y) - max_height\n"
   ]
  },
  {
   "cell_type": "markdown",
   "id": "ed0ba494",
   "metadata": {},
   "source": [
    "### Full image"
   ]
  },
  {
   "cell_type": "code",
   "execution_count": null,
   "id": "f53b90ba",
   "metadata": {},
   "outputs": [],
   "source": [
    "from matplotlib.ticker import AutoLocator\n",
    "ax = sc.pl.embedding(adata, basis='spatial', color=['leiden'], show=False)\n",
    "ax.xaxis.set_major_locator(AutoLocator())  \n",
    "ax.yaxis.set_major_locator(AutoLocator()) \n",
    "ax.set_aspect('equal') \n",
    "fov = Rectangle((x_offset, y_offset), max_width, max_height, edgecolor='r', facecolor='none')\n",
    "ax.add_patch(fov)"
   ]
  },
  {
   "cell_type": "markdown",
   "id": "e1cde65a",
   "metadata": {},
   "source": [
    "### Subset to a smaller FOV"
   ]
  },
  {
   "cell_type": "code",
   "execution_count": null,
   "id": "564d58aa",
   "metadata": {},
   "outputs": [],
   "source": [
    "ax = sc.pl.embedding(adata, basis='spatial', color=['leiden'], show=False, size=75)\n",
    "ax.set_xlim((x_offset,  (x_offset + max_width)   ))\n",
    "ax.set_ylim(((y_offset + max_height) , y_offset   ))\n",
    "ax.xaxis.set_major_locator(AutoLocator())  \n",
    "ax.yaxis.set_major_locator(AutoLocator())  \n",
    "ax.set_aspect('equal') "
   ]
  },
  {
   "cell_type": "markdown",
   "id": "23276872",
   "metadata": {},
   "source": [
    "## Differential expression"
   ]
  },
  {
   "cell_type": "code",
   "execution_count": null,
   "id": "7e35da46",
   "metadata": {},
   "outputs": [],
   "source": [
    "sc.tl.rank_genes_groups(adata, 'leiden', method='wilcoxon')\n",
    "sc.pl.rank_genes_groups(adata, n_genes=25, sharey=False)"
   ]
  },
  {
   "cell_type": "code",
   "execution_count": null,
   "id": "4eca9a41",
   "metadata": {},
   "outputs": [],
   "source": [
    "pd.DataFrame(adata.uns['rank_genes_groups']['names']).head(5)"
   ]
  },
  {
   "cell_type": "code",
   "execution_count": null,
   "metadata": {},
   "outputs": [],
   "source": [
    "marker_genes = np.unique(pd.DataFrame(adata.uns['rank_genes_groups']['names']).head(5).to_numpy().flatten())"
   ]
  },
  {
   "cell_type": "code",
   "execution_count": null,
   "id": "da9622cd",
   "metadata": {},
   "outputs": [],
   "source": [
    "sc.pl.dotplot(adata, marker_genes, groupby='leiden');"
   ]
  },
  {
   "cell_type": "code",
   "execution_count": null,
   "id": "2a69ad67",
   "metadata": {},
   "outputs": [],
   "source": []
  }
 ],
 "metadata": {
  "kernelspec": {
   "display_name": "Python 3 (ipykernel)",
   "language": "python",
   "name": "python3"
  },
  "language_info": {
   "codemirror_mode": {
    "name": "ipython",
    "version": 3
   },
   "file_extension": ".py",
   "mimetype": "text/x-python",
   "name": "python",
   "nbconvert_exporter": "python",
   "pygments_lexer": "ipython3",
   "version": "3.11.5"
  }
 },
 "nbformat": 4,
 "nbformat_minor": 5
}
