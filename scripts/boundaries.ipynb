{
 "cells": [
  {
   "cell_type": "markdown",
   "metadata": {},
   "source": [
    "# Cell boundaries"
   ]
  },
  {
   "cell_type": "code",
   "execution_count": null,
   "metadata": {},
   "outputs": [],
   "source": [
    "import pandas as pd\n",
    "import seaborn as sns\n",
    "import matplotlib.pylab as plt\n",
    "from matplotlib.patches import Rectangle\n",
    "import numpy as np\n",
    "import warnings\n",
    "import geopandas as gpd\n",
    "import tifffile\n",
    "import os\n",
    "import json\n",
    "from fast_alphashape import alphashape\n",
    "from shapely.ops import transform\n",
    "import gc\n",
    "warnings.filterwarnings('ignore')"
   ]
  },
  {
   "cell_type": "markdown",
   "metadata": {},
   "source": [
    "## Import file"
   ]
  },
  {
   "cell_type": "code",
   "execution_count": null,
   "metadata": {},
   "outputs": [],
   "source": [
    "def import_files() -> pd.DataFrame:\n",
    "    df_vizgen = pd.read_csv(\"data/transcripts_cellpose.csv\")\n",
    "    df_vizgen = df_vizgen[['transcript_id', 'cell_id']]\n",
    "    df_baysor = pd.read_csv(\"data/transcripts.csv\")\n",
    "    df = pd.merge(left=df_baysor, right=df_vizgen, how=\"left\", left_on=\"transcript_id\", right_on='transcript_id')\n",
    "    df['cell_id'] = df.cell_id.replace(0, np.nan)\n",
    "    return df\n",
    "\n",
    "df = import_files()"
   ]
  },
  {
   "cell_type": "code",
   "execution_count": null,
   "metadata": {},
   "outputs": [],
   "source": [
    "df"
   ]
  },
  {
   "cell_type": "code",
   "execution_count": null,
   "metadata": {},
   "outputs": [],
   "source": [
    "def import_image(path: str, scale: int = 4):\n",
    "    file = os.path.join(path, \"image.tiff\")\n",
    "    with tifffile.TiffFile(file) as tif:\n",
    "        page = tif.pages[0]\n",
    "        height = (page.imagelength)\n",
    "        width  =  (page.imagewidth)\n",
    "        pad_height = (scale - height % scale) % scale\n",
    "        pad_width = (scale - width % scale) % scale\n",
    "        shape = (height + pad_height) // scale, (width + pad_width) // scale\n",
    "        stack = np.empty(shape, page.dtype)\n",
    "        stack = page.asarray(out='memmap')[::scale, ::scale]\n",
    "        return stack\n",
    "\n",
    "img = import_image(\"data/\")\n",
    "img"
   ]
  },
  {
   "cell_type": "code",
   "execution_count": null,
   "metadata": {},
   "outputs": [],
   "source": [
    "def create_rescaling_function(scale=4.0):\n",
    "    \"\"\"\n",
    "    Here we create a rescaling function that takes three argument: x, y, z.\n",
    "    These are the coordinates of out point. We will apply the transformation\n",
    "    defined in 'micron_to_mosaic_pixel_transform' to convert the micron to pixel\n",
    "    \"\"\"\n",
    "    \n",
    "    mmpt = pd.read_csv(\n",
    "        \"data/pixel_transformation.csv\", \n",
    "        header=None, \n",
    "        sep=' '\n",
    "    )\n",
    "    mmpt = np.array(mmpt)\n",
    "\n",
    "    def rescale_fun(x,y,z):\n",
    "        points = np.array([x,y,z])\n",
    "        # coordinates to pixel\n",
    "        points = np.diag(mmpt) * points.T + np.append(mmpt[0:2,2], 0)\n",
    "        points = points / scale\n",
    "        return(points.T)\n",
    "    \n",
    "    return(rescale_fun)\n",
    "\n",
    "rescale_fun = create_rescaling_function()\n",
    "def rescale_fun_2d(x,y):\n",
    "    ones = np.ones(len(x))\n",
    "    res = rescale_fun(x,y,ones)\n",
    "\n",
    "    return(res[0],res[1])"
   ]
  },
  {
   "cell_type": "markdown",
   "metadata": {},
   "source": [
    "## Subset to a smaller FOV\n",
    "\n",
    "Larger slides might take a long time to plot and the image would be too crowded to actually see the boundaries. Hence, we subset it to a smaller field of view (FOV)"
   ]
  },
  {
   "cell_type": "code",
   "execution_count": null,
   "metadata": {},
   "outputs": [],
   "source": [
    "max_width = int(os.getenv(\"WIDTH\"))\n",
    "max_height = int(os.getenv(\"HEIGHT\"))\n",
    "\n",
    "x_offset = int(os.getenv(\"X_OFFSET\"))\n",
    "y_offset = int(os.getenv(\"Y_OFFSET\"))\n",
    "\n",
    "total_width = np.max(df.x) - np.min(df.x)\n",
    "total_height = np.max(df.y) - np.min(df.y)\n",
    "\n",
    "# check boundaries\n",
    "if max_width >= total_width:\n",
    "    max_width = total_width\n",
    "    x_offset = 0\n",
    "if max_height >= total_height:\n",
    "    max_height = total_height\n",
    "    y_offset = 0\n",
    "\n",
    "\n",
    "if (x_offset < 0) and (total_width > max_width):\n",
    "    x_offset = round(total_width /2 - max_width /2)\n",
    "if (max_width + x_offset) > np.max(df.x):\n",
    "    x_offset = np.max(df.x) - max_width\n",
    "\n",
    "\n",
    "if (y_offset < 0) and (total_height > max_height):\n",
    "    y_offset = round(total_height /2 - max_height /2)\n",
    "if (max_height + y_offset) > np.max(df.y):\n",
    "    y_offset = np.max(df.y) - max_height\n",
    "\n"
   ]
  },
  {
   "cell_type": "code",
   "execution_count": null,
   "metadata": {},
   "outputs": [],
   "source": [
    "# transform FOX to pixel\n",
    "\n",
    "def transform_rectangle(x, y, width, height):\n",
    "    start = rescale_fun(x, y, 0)\n",
    "    end = rescale_fun(x+width, y+height, 0)\n",
    "    return (\n",
    "        round(start[0]), \n",
    "        round(start[1]),\n",
    "        round(end[0] - start[0]),\n",
    "        round(end[1] - start[1])\n",
    "    )\n",
    "\n",
    "tx, ty, tw, th = transform_rectangle(x_offset, y_offset, max_width, max_height)\n",
    "print(x_offset, y_offset, max_width, max_height)\n",
    "print(tx, ty, tw, th)"
   ]
  },
  {
   "cell_type": "code",
   "execution_count": null,
   "metadata": {},
   "outputs": [],
   "source": [
    "fig = plt.figure(figsize = (8,6))\n",
    "ax = fig.add_subplot(111)\n",
    "ax.imshow(\n",
    "    img,\n",
    "    vmin=np.percentile(img, 99)*0.1,\n",
    "    vmax=np.percentile(img, 99)*1.1,\n",
    "    cmap=sns.dark_palette(\"#bfcee3\", reverse=False, as_cmap=True)\n",
    ")\n",
    "img_size = Rectangle((0,0),img.shape[1], img.shape[0], edgecolor='b', facecolor='none')\n",
    "fov = Rectangle((tx, ty), tw, th, edgecolor='r', facecolor='none')\n",
    "ax.add_patch(img_size)\n",
    "ax.add_patch(fov)\n",
    "ax.set_xlim((0, img.shape[1]))\n",
    "ax.set_ylim((img.shape[0], 0))\n",
    "plt.gca().set_aspect('equal')"
   ]
  },
  {
   "cell_type": "code",
   "execution_count": null,
   "metadata": {},
   "outputs": [],
   "source": [
    "# subset trancsripts\n",
    "\n",
    "def subset_transcripts(df, x_offset, y_offset, max_width, max_height):\n",
    "    df = df[\n",
    "        ((df.x ) >= (x_offset - 20)) &\n",
    "        ((df.x ) <= (x_offset + max_width + 20)) &\n",
    "        ((df.y ) >= (y_offset - 20 )) &\n",
    "        ((df.y ) <= (y_offset + max_height + 20))\n",
    "    ]\n",
    "    return (df)\n",
    "\n",
    "df = subset_transcripts(df, x_offset, y_offset, max_width, max_height)"
   ]
  },
  {
   "cell_type": "markdown",
   "metadata": {},
   "source": [
    "## Create cell boundaries\n",
    "\n",
    "Using alphashapes.\n"
   ]
  },
  {
   "cell_type": "code",
   "execution_count": null,
   "metadata": {},
   "outputs": [],
   "source": [
    "from matplotlib.patches import Patch\n",
    "def plot_segmentation(df, img, type: str = \"cell_id\"):\n",
    "\n",
    "    print(\"... Plotting image\")\n",
    "    fig = plt.figure(figsize = (15,15))\n",
    "    ax = fig.add_subplot(111)\n",
    "    ax.imshow(\n",
    "        img,\n",
    "        vmin=np.percentile(img, 99)*0.1,\n",
    "        vmax=np.percentile(img, 99)*1.1,\n",
    "        cmap=sns.dark_palette(\"#bfcee3\", reverse=False, as_cmap=True)\n",
    "    )\n",
    "\n",
    "    ax.set_xlim(tx, (tx+th))\n",
    "    ax.set_ylim((ty+th), ty)\n",
    "\n",
    "    add_boundaries(df, type, ax)\n",
    "    ax.set_aspect('equal')\n",
    "    return (fig, ax)\n",
    "\n",
    "def add_boundaries(df, type,  ax, color=sns.color_palette()[3], fill=True, alpha=0.7):\n",
    "    from matplotlib.patches import Patch\n",
    "    def make_alphashape(points: pd.DataFrame, alpha: float):\n",
    "        points = np.array(points)\n",
    "        shape = alphashape(points, alpha=alpha)\n",
    "        return shape\n",
    "\n",
    "    print(\"... Calculating alphashapes\")\n",
    "    shapes = df[~(pd.isnull(df[type]))].groupby(type)[['x', 'y']].apply(make_alphashape, alpha=0.05)\n",
    "    shapes = gpd.GeoSeries(shapes)\n",
    "\n",
    "    if fill:\n",
    "        shapes.apply(lambda x: transform(rescale_fun_2d, x)).plot(facecolor=color, edgecolor='none', alpha=0.2, ax=ax)\n",
    "    shapes.apply(lambda x: transform(rescale_fun_2d, x)).plot(facecolor=\"none\", edgecolor=color, alpha=alpha,  ax=ax)\n",
    "\n",
    "    return ax\n",
    "\n"
   ]
  },
  {
   "cell_type": "markdown",
   "metadata": {},
   "source": [
    "## Plot image\n",
    "\n",
    "### Using the cellpose segmentation"
   ]
  },
  {
   "cell_type": "code",
   "execution_count": null,
   "metadata": {},
   "outputs": [],
   "source": [
    "fig, ax = plot_segmentation(df, img, \"cell_id\")\n",
    "legend_elements = [Patch(facecolor=sns.color_palette()[3] + (0.2,), \n",
    "                         edgecolor=sns.color_palette()[3] + (0.7,),\n",
    "                         label='Cellpose')]\n",
    "ax.legend(handles=legend_elements)"
   ]
  },
  {
   "cell_type": "markdown",
   "metadata": {},
   "source": [
    "### Using Baysor segmentation"
   ]
  },
  {
   "cell_type": "code",
   "execution_count": null,
   "metadata": {},
   "outputs": [],
   "source": [
    "fig, ax = plot_segmentation(df, img, \"cell\")\n",
    "legend_elements = [Patch(facecolor=sns.color_palette()[3] + (0.2,), \n",
    "                         edgecolor=sns.color_palette()[3] + (0.7,),\n",
    "                         label='Baysor')]\n",
    "ax.legend(handles=legend_elements)"
   ]
  },
  {
   "cell_type": "markdown",
   "metadata": {},
   "source": [
    "### Baysor and Cellpose"
   ]
  },
  {
   "cell_type": "code",
   "execution_count": null,
   "metadata": {},
   "outputs": [],
   "source": [
    "fig, ax = plot_segmentation(df, img, \"cell\")\n",
    "ax = add_boundaries(df, \"cell_id\", ax, color=sns.color_palette()[0], fill=False, alpha=0.7)\n",
    "legend_elements = [Patch(facecolor=sns.color_palette()[3] + (0.2,), \n",
    "                         edgecolor=sns.color_palette()[3] + (0.7,),\n",
    "                         label='Baysor'),\n",
    "                   Patch(facecolor=sns.color_palette()[0] + (0.2,), \n",
    "                         edgecolor=sns.color_palette()[0] + (0.7,),\n",
    "                         label='Cellpose')]\n",
    "ax.legend(handles=legend_elements)"
   ]
  }
 ],
 "metadata": {
  "kernelspec": {
   "display_name": ".venv",
   "language": "python",
   "name": "python3"
  },
  "language_info": {
   "codemirror_mode": {
    "name": "ipython",
    "version": 3
   },
   "file_extension": ".py",
   "mimetype": "text/x-python",
   "name": "python",
   "nbconvert_exporter": "python",
   "pygments_lexer": "ipython3",
   "version": "3.11.5"
  },
  "orig_nbformat": 4
 },
 "nbformat": 4,
 "nbformat_minor": 2
}
