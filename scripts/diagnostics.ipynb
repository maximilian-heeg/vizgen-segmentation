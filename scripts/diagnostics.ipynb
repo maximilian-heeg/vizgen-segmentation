{
 "cells": [
  {
   "cell_type": "markdown",
   "metadata": {},
   "source": [
    "# Basic diagnostics"
   ]
  },
  {
   "cell_type": "code",
   "execution_count": null,
   "metadata": {},
   "outputs": [],
   "source": [
    "import pandas as pd\n",
    "import seaborn as sns\n",
    "import matplotlib.pylab as plt\n",
    "import numpy as np\n",
    "import warnings\n",
    "warnings.filterwarnings('ignore')"
   ]
  },
  {
   "cell_type": "markdown",
   "metadata": {},
   "source": [
    "## Import files"
   ]
  },
  {
   "cell_type": "code",
   "execution_count": null,
   "metadata": {},
   "outputs": [],
   "source": [
    "def import_files() -> pd.DataFrame:\n",
    "    df_nuclear = pd.read_csv(\"data/transcripts_cellpose.csv\")\n",
    "    df_baysor = pd.read_csv(\"data/transcripts.csv\")\n",
    "    df_nuclear = df_nuclear[['transcript_id', 'cell_id']]\n",
    "    df = pd.merge(left=df_baysor, right=df_nuclear, how=\"left\", left_on=\"transcript_id\", right_on='transcript_id')\n",
    "    return df\n",
    "\n",
    "df = import_files()"
   ]
  },
  {
   "cell_type": "markdown",
   "metadata": {},
   "source": [
    "## Plotting functions"
   ]
  },
  {
   "cell_type": "code",
   "execution_count": null,
   "metadata": {},
   "outputs": [],
   "source": [
    "def diagnostic_plots(df, ax1, ax2, ax3, ax4): \n",
    "    df_cell_counts = pd.DataFrame({\n",
    "        \"Baysor\": [df[~pd.isnull(df.cell)].cell.nunique()],\n",
    "        \"Nuclear\\nSegmentation\": [df[df.cell_id > 0].cell_id.nunique()]\n",
    "    })\n",
    "    sns.barplot(df_cell_counts, ax=ax1)\n",
    "    ax1.set_title(f\"Number of detected cells\")\n",
    "\n",
    "    # how many transcripts are assigned to a cell\n",
    "    df_assigned = pd.DataFrame({\n",
    "    \"Baysor\": (~pd.isnull(df.cell)).value_counts(),\n",
    "    \"Vizgen\\nSegmentation\": (df.cell_id > 0).value_counts()\n",
    "    })\n",
    "    df_assigned = df_assigned.transpose().iloc[:, [1,0]]\n",
    "    df_assigned.plot.bar(stacked=True, ax=ax2, color=[\"#55A868\", \"#BD4B4F\"]).legend(loc='upper right')\n",
    "    ax2.set_title(f\"Transcripts assigned to cell\")\n",
    "   \n",
    "    # how many transcripts per cell\n",
    "    baysor = df[~pd.isnull(df.cell)].groupby(\"cell\").size()\n",
    "    nucleus = df[df.cell_id > 0].groupby(\"cell_id\").size()\n",
    "    sns.histplot(baysor, ax=ax3, kde=True, label=\"Baysor\", binwidth=10)\n",
    "    sns.histplot(nucleus, ax=ax3, kde=True, label=\"Nuclear segmentation\",binwidth=10)\n",
    "    ax3.set_xlabel(r\"Transcripts per cell\")\n",
    "    ax3.set_ylabel(r\"cells\")\n",
    "    ax3.set_title(f\"Transcripts per cell\")\n",
    "    ax3.legend()\n",
    "\n",
    "    # how many features per cell\n",
    "    baysor = df[~pd.isnull(df.cell)].groupby('cell')['gene'].nunique()\n",
    "    nucleus = df[df.cell_id > 0].groupby('cell')['gene'].nunique()\n",
    "    sns.histplot(baysor, ax=ax4, kde=True, label=\"Baysor\", binwidth=5)\n",
    "    sns.histplot(nucleus, ax=ax4, kde=True, label=\"Nuclear segmentation\",binwidth=5)    \n",
    "    ax4.set_xlabel(r\"Features per cell\")\n",
    "    ax4.set_ylabel(r\"cells\")\n",
    "    ax4.set_title(\"Features per cell\")\n",
    "    ax4.legend() \n",
    "\n"
   ]
  },
  {
   "cell_type": "markdown",
   "metadata": {},
   "source": [
    "## Make the plots"
   ]
  },
  {
   "cell_type": "code",
   "execution_count": null,
   "metadata": {},
   "outputs": [],
   "source": [
    "fig, (ax1, ax2, ax3, ax4) = plt.subplots(1, 4, figsize = (14,5))\n",
    "diagnostic_plots(df, ax1, ax2, ax3, ax4)\n",
    "fig.tight_layout(h_pad=1.1)"
   ]
  },
  {
   "cell_type": "code",
   "execution_count": null,
   "metadata": {},
   "outputs": [],
   "source": []
  }
 ],
 "metadata": {
  "kernelspec": {
   "display_name": ".venv",
   "language": "python",
   "name": "python3"
  },
  "language_info": {
   "codemirror_mode": {
    "name": "ipython",
    "version": 3
   },
   "file_extension": ".py",
   "mimetype": "text/x-python",
   "name": "python",
   "nbconvert_exporter": "python",
   "pygments_lexer": "ipython3",
   "version": "3.11.4"
  },
  "orig_nbformat": 4
 },
 "nbformat": 4,
 "nbformat_minor": 2
}
